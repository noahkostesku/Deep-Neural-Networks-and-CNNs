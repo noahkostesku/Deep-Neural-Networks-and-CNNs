{
 "cells": [
  {
   "cell_type": "markdown",
   "id": "f7071390-f91c-4e30-8587-238a8dc09c92",
   "metadata": {},
   "source": [
    "# A Step-By-Step Componential Analysis of Deep Neural Networks"
   ]
  },
  {
   "cell_type": "markdown",
   "id": "26cb6834-dde4-4736-8588-f43a1db3524e",
   "metadata": {},
   "source": [
    "# 1. Data Collection"
   ]
  },
  {
   "cell_type": "markdown",
   "id": "26cb2df1-3b0a-484a-ad3e-eeb1f9ea260f",
   "metadata": {},
   "source": [
    "### The analysis of the fundamental components of this deep neural network are done with the MNIST handwritten digit dataset, which has a training set of 60 000 examples, and a test set of 10 000 examples."
   ]
  },
  {
   "cell_type": "markdown",
   "id": "85b458f2-820e-441b-8808-651dae597611",
   "metadata": {},
   "source": [
    "#### Consider an example digit below:"
   ]
  },
  {
   "cell_type": "code",
   "execution_count": 90,
   "id": "70b681f5-97a5-405a-a47e-2ff5e75366ed",
   "metadata": {},
   "outputs": [
    {
     "data": {
      "image/png": "[encoded data removed]",
      "text/plain": [
       "<Figure size 640x480 with 1 Axes>"
      ]
     },
     "metadata": {},
     "output_type": "display_data"
    }
   ],
   "source": [
    "train_data_df = pd.read_csv('mnist_train_labeled.csv')\n",
    "\n",
    "label = train_data_df.iloc[0, 0] \n",
    "image_data = train_data_df.iloc[0, 1:].values\n",
    "\n",
    "image = image_data.reshape(28, 28)\n",
    "\n",
    "plt.imshow(image, cmap='gray')\n",
    "plt.title(f'Label: {label}')\n",
    "plt.show()"
   ]
  },
  {
   "cell_type": "markdown",
   "id": "25d5520a-8838-4fe4-8a97-c7ff8c7fdff1",
   "metadata": {},
   "source": [
    "#### Each image is a 28 x 28 pixel image with a grayscale pixel value from 0 - 255 representing brightness -- 0 represents black which can be interpreted as turned off, whereas 255 represents a turned on cell. Each 1 / 784 cells carries their repective pixel value."
   ]
  },
  {
   "cell_type": "markdown",
   "id": "8d082c8e-48ef-4aec-a8c7-730db2cc30fc",
   "metadata": {},
   "source": [
    "# 2. Data PreProcessing"
   ]
  },
  {
   "cell_type": "markdown",
   "id": "774a9d60-fdf6-48e9-b15d-5239887c1240",
   "metadata": {},
   "source": [
    "#### Data is extracted by splitting numbers into groups of pixels corresponding to their respective label. This data is fed into the neural network while maintaining each mapping of label to pixel values."
   ]
  },
  {
   "cell_type": "code",
   "execution_count": 100,
   "id": "142bba91-6ce8-4a4d-b4f6-b5dd5b72e3ef",
   "metadata": {},
   "outputs": [
    {
     "name": "stdout",
     "output_type": "stream",
     "text": [
      "Labeled Training Data:\n",
      "   label  pixel_0  pixel_1  pixel_2  pixel_3  pixel_4  pixel_5  pixel_6  \\\n",
      "0      0        0        0        0        0        0        0        0   \n",
      "1      4        0        0        0        0        0        0        0   \n",
      "2      1        0        0        0        0        0        0        0   \n",
      "3      9        0        0        0        0        0        0        0   \n",
      "4      2        0        0        0        0        0        0        0   \n",
      "\n",
      "   pixel_7  pixel_8  ...  pixel_774  pixel_775  pixel_776  pixel_777  \\\n",
      "0        0        0  ...          0          0          0          0   \n",
      "1        0        0  ...          0          0          0          0   \n",
      "2        0        0  ...          0          0          0          0   \n",
      "3        0        0  ...          0          0          0          0   \n",
      "4        0        0  ...          0          0          0          0   \n",
      "\n",
      "   pixel_778  pixel_779  pixel_780  pixel_781  pixel_782  pixel_783  \n",
      "0          0          0          0          0          0          0  \n",
      "1          0          0          0          0          0          0  \n",
      "2          0          0          0          0          0          0  \n",
      "3          0          0          0          0          0          0  \n",
      "4          0          0          0          0          0          0  \n",
      "\n",
      "[5 rows x 785 columns]\n"
     ]
    }
   ],
   "source": [
    "import pandas as pd\n",
    "import numpy as np\n",
    "\n",
    "def load_data(file_path):\n",
    "    data = pd.read_csv(file_path)\n",
    "    X = data.iloc[:, 1:].values  # Pixel values (skip the first column which is the label)\n",
    "    Y = data.iloc[:, 0].values   # Labels (first column)\n",
    "    return X, Y\n",
    "\n",
    "def preprocess_data(X, Y):\n",
    "    X = X / 255.0\n",
    "    X = (X * 255).astype(int)\n",
    "    return X, Y\n",
    "\n",
    "X_train, Y_train = preprocess_data(*load_data('mnist_train.csv'))\n",
    "\n",
    "num_pixels = X_train.shape[1]\n",
    "pixel_headers = [f'pixel_{i}' for i in range(num_pixels)]\n",
    "headers = ['label'] + pixel_headers\n",
    "\n",
    "# Combine the labels and pixel data into a DataFrame\n",
    "train_data_df = pd.DataFrame(np.column_stack((Y_train, X_train)), columns=headers)\n",
    "\n",
    "print(\"Labeled Training Data:\")\n",
    "print(train_data_df.head(5))\n"
   ]
  },
  {
   "cell_type": "markdown",
   "id": "b4cb802d-f0aa-4644-85c3-e2de40ff98d8",
   "metadata": {},
   "source": [
    "##### *Note: For cleanliness all values have been converted from float to int*."
   ]
  },
  {
   "cell_type": "markdown",
   "id": "14ec191a-7e73-412e-9116-cd4b92682b19",
   "metadata": {},
   "source": [
    "#### Data is normalized to give the data a consistent range across the network. This enhances the processing of data and therefore acts as a preventive measure for nuissances such as the vanishing gradient problem."
   ]
  },
  {
   "cell_type": "code",
   "execution_count": null,
   "id": "a57e855a-9501-444b-a17f-33171dfee2a2",
   "metadata": {},
   "outputs": [],
   "source": [
    "def preprocess_data(X, Y):\n",
    "    X = X / 255.0\n",
    "    X = (X * 255).astype(int)\n",
    "    return X, Y"
   ]
  },
  {
   "cell_type": "markdown",
   "id": "d5fd4266-1424-4343-9d1d-a188907353be",
   "metadata": {},
   "source": [
    "# 3. Neural Network Architecture"
   ]
  },
  {
   "cell_type": "markdown",
   "id": "6f30532d-4fad-4aa4-bd7b-57893ff3b1c6",
   "metadata": {},
   "source": [
    "### *He Initialization* is used to introduce proper variance and scaling throughout layers of the network to avoid exploding or vanishing gradients during propagation."
   ]
  },
  {
   "cell_type": "code",
   "execution_count": 101,
   "id": "a21a06d0-6a8c-4c87-93a5-687541eb7ac8",
   "metadata": {},
   "outputs": [],
   "source": [
    "class NeuralNetwork:\n",
    "    \n",
    "    def __init__(self, input_size, hidden_size, output_size):\n",
    "        # Use He initialization for weights\n",
    "        self.W1 = np.random.randn(hidden_size, input_size) * np.sqrt(2.0 / input_size)\n",
    "        self.b1 = np.zeros((hidden_size, 1))\n",
    "        self.W2 = np.random.randn(output_size, hidden_size) * np.sqrt(2.0 / hidden_size)\n",
    "        self.b2 = np.zeros((output_size, 1))"
   ]
  },
  {
   "cell_type": "markdown",
   "id": "78c2ce8d-4348-4bc0-bc5e-f1ad01efadf7",
   "metadata": {},
   "source": [
    "#### A hidden layer introduces non-linearity through activation functions. This is needed to establish the capability of learning and complex problem solving."
   ]
  },
  {
   "cell_type": "markdown",
   "id": "7d5fa7df-b638-42d3-a201-dea49ba74a9c",
   "metadata": {},
   "source": [
    "![For a visual](../Downloads/mlp.png)"
   ]
  },
  {
   "cell_type": "markdown",
   "id": "6970e797-80d6-4026-af75-8b151ee8c80f",
   "metadata": {},
   "source": [
    "*Note: Not drawn to scale*"
   ]
  },
  {
   "cell_type": "markdown",
   "id": "3248a25e-273c-4309-a60e-18fc784aef17",
   "metadata": {},
   "source": [
    "# 4. Training the Deep Neural Network"
   ]
  },
  {
   "cell_type": "markdown",
   "id": "6f007b1f-1246-484c-bd44-fba9889aee39",
   "metadata": {},
   "source": [
    "#### Weights are initialized by:"
   ]
  },
  {
   "cell_type": "markdown",
   "id": "9b1bf058-eb85-47e3-b858-091ed4b01a69",
   "metadata": {},
   "source": [
    "   $$\n",
    "         w_1 = \\mathcal{N}(0,1) \\cdot \\sqrt{\\frac{2.0}{\\text{input size}}}\n",
    "     $$\n",
    "     $$\n",
    "         w_2 = \\mathcal{N}(0,1) \\cdot \\sqrt{\\frac{2.0}{\\text{hidden size}}}\n",
    "      $$"
   ]
  },
  {
   "cell_type": "markdown",
   "id": "edba91fc-2991-4e2f-bf68-ced94e961371",
   "metadata": {},
   "source": [
    "Each weight is scaled by a factor of $ \\sqrt{\\frac{2.0}{n}} $ to maintain variance across layers, and lead to convergence across training epochs. Biases are independant of input scaling and are adjusted throughout the training hence their staring position of 0."
   ]
  },
  {
   "cell_type": "code",
   "execution_count": 106,
   "id": "b73b1934-87c5-4dda-bb01-661588724971",
   "metadata": {},
   "outputs": [],
   "source": [
    "def forward_propagation(self, X, keep_prob):\n",
    "        self.Z1 = np.dot(self.W1, X) + self.b1\n",
    "        self.A1 = np.maximum(0, self.Z1)\n",
    "\n",
    "        # Dropout for the hidden layer\n",
    "        self.dropout_mask1 = (np.random.rand(*self.A1.shape) < keep_prob) / keep_prob\n",
    "        self.A1 *= self.dropout_mask1\n",
    "\n",
    "        self.Z2 = np.dot(self.W2, self.A1) + self.b2\n",
    "        self.A2 = self.softmax(self.Z2)\n",
    "        return self.A2"
   ]
  },
  {
   "cell_type": "markdown",
   "id": "70a47533-3f3c-4f51-af62-e8c8c9257ac3",
   "metadata": {},
   "source": [
    "### Forward propagation is used to recieve input, calculate weighted sums and generate output."
   ]
  },
  {
   "cell_type": "markdown",
   "id": "3149fae8-e793-4c70-ac86-7f4e96e1b060",
   "metadata": {},
   "source": [
    "##### 1. Each weighted sum is given by: "
   ]
  },
  {
   "cell_type": "markdown",
   "id": "9e3da205-9357-46a6-afb7-f983ffdfc767",
   "metadata": {},
   "source": [
    "$$\n",
    "    z = \\sum_j w_jx_j + b\n",
    "$$"
   ]
  },
  {
   "cell_type": "markdown",
   "id": "e259aa30-5d88-44c9-8f64-37547f12cf9f",
   "metadata": {},
   "source": [
    "*Note: $x_j$ represents input for the j-th neuron*."
   ]
  },
  {
   "cell_type": "markdown",
   "id": "713c8748-33c3-45c9-87e0-56aa2ebb3631",
   "metadata": {},
   "source": [
    "Where z is the activation (weighted sum) for the j-th node in the following layer. Neurons are then randomly dropped out with regularization to reduce opverfitting so the dropout mask is applied layer by layer to the Activation $ A_{1,j} $ as follows: $ A'_{1,j} \\rightarrow A_{1,j} \\cdot \\text{DropoutMask}_{1,j} $. This prevents a single dataset from dominating the model."
   ]
  },
  {
   "cell_type": "code",
   "execution_count": 110,
   "id": "670f6359-7420-4432-9b30-79229b252e99",
   "metadata": {},
   "outputs": [],
   "source": [
    "def softmax(self, Z):\n",
    "        exp_Z = np.exp(Z - np.max(Z, axis=0, keepdims=True))\n",
    "        return exp_Z / np.sum(exp_Z, axis=0, keepdims=True)"
   ]
  },
  {
   "cell_type": "markdown",
   "id": "3be650f7-5075-459a-9cab-9b6654169ebf",
   "metadata": {},
   "source": [
    "#### The softmax function is applied to the entire vector of outputs from the output layer by: "
   ]
  },
  {
   "cell_type": "markdown",
   "id": "afd074f4-24be-4c21-9f7d-26b7de22b3e7",
   "metadata": {},
   "source": [
    "$$ a_j^L = \\frac{e^{z_j^L}}{\\sum_k e^{z_k^L}} \\rightarrow  \\sum_j a_j^L = \\frac{\\sum_j e^{z_j^L}}{\\sum_k e^{z_k^L}} = 1 $$"
   ]
  },
  {
   "cell_type": "markdown",
   "id": "7afdb9bd-4f3f-4b33-85e6-0ce63a73c3c6",
   "metadata": {},
   "source": [
    "The $ e^{z_j^L} $ term transforms all logits into positive numbers (essential for probabilities). The sum of all exponentiated logits in the denominator normalizes all inputs. This transforms the resulting output as an interpretation of probabilities between 0 and 1. The highest proabability in the final layer is the network's guess of which digit the image represents."
   ]
  },
  {
   "cell_type": "markdown",
   "id": "1305bc1d-ce7c-4dfb-af7a-7ae85ed5747e",
   "metadata": {},
   "source": [
    "### Main Training "
   ]
  },
  {
   "cell_type": "code",
   "execution_count": null,
   "id": "265133c5-88a6-41c8-a57b-bee5412e6040",
   "metadata": {},
   "outputs": [],
   "source": [
    "def train(self, X_train, Y_train, X_test, Y_test, iterations, initial_learning_rate, batch_size, lambda_, keep_prob, decay_rate=0.96, decay_step=100):\n",
    "        m_train = X_train.shape[1]\n",
    "        m_test = X_test.shape[1]\n",
    "        train_costs = []\n",
    "        test_costs = []\n",
    "        train_accuracies = []\n",
    "        test_accuracies = []\n",
    "        learning_rates = [] \n",
    "\n",
    "        learning_rate = initial_learning_rate\n",
    "\n",
    "        for i in range(iterations):\n",
    "            # Update learning rate using exponential decay\n",
    "            learning_rate = initial_learning_rate * decay_rate**(i // decay_step)\n",
    "            learning_rates.append(learning_rate)\n",
    "\n",
    "            #shuffle training data (preventing bias)\n",
    "            permutation = np.random.permutation(m_train)\n",
    "            X_shuffled = X_train[:, permutation]\n",
    "            Y_shuffled = Y_train[:, permutation]\n",
    "\n",
    "            epoch_cost = 0\n",
    "\n",
    "            for j in range(0, m_train, batch_size):\n",
    "                #randomly shuffle data\n",
    "                X_batch = X_shuffled[:, j:j+batch_size]\n",
    "                Y_batch = Y_shuffled[:, j:j+batch_size]\n",
    "\n",
    "                A2 = self.forward_propagation(X_batch, keep_prob)\n",
    "                cost = self.compute_cost(A2, Y_batch, lambda_)\n",
    "                dW1, db1, dW2, db2 = self.back_propagation(X_batch, Y_batch, A2, keep_prob)\n",
    "                self.W1 -= learning_rate * dW1\n",
    "                self.b1 -= learning_rate * db1\n",
    "                self.W2 -= learning_rate * dW2\n",
    "                self.b2 -= learning_rate * db2\n",
    "\n",
    "                # Accumulate cost, weighted by batch size\n",
    "                epoch_cost += cost * X_batch.shape[1]\n",
    "\n",
    "            # Average cost over the epoch\n",
    "            epoch_cost /= m_train\n",
    "            train_costs.append(epoch_cost)\n",
    "\n",
    "            # Compute test cost\n",
    "            A2_test = self.forward_propagation(X_test, keep_prob)\n",
    "            test_cost = self.compute_cost(A2_test, Y_test, lambda_)\n",
    "            test_costs.append(test_cost)"
   ]
  },
  {
   "cell_type": "markdown",
   "id": "c524a1db-ac9e-40a4-baa5-8c7f45f8f129",
   "metadata": {},
   "source": [
    "### Key Componenents"
   ]
  },
  {
   "cell_type": "markdown",
   "id": "8862b596-4fa3-485e-814b-dc1274de002c",
   "metadata": {},
   "source": [
    "#### Learning Rate Scheduler"
   ]
  },
  {
   "cell_type": "markdown",
   "id": "558d4ea5-579d-4049-bedf-02d41edfb2ed",
   "metadata": {},
   "source": [
    "Early in training, a high learning rate helps quickly adjust weights that are initially far off. As training progresses and weights become more refined, reducing the learning rate allows for more precise adjustments. This is calculated through updating the learning rate and multiyplying it to a decay rate and modified floor function for a fixed interval updating effect:"
   ]
  },
  {
   "cell_type": "markdown",
   "id": "203d9e8e-876c-4410-b64b-4ec591dccebb",
   "metadata": {},
   "source": [
    "$$\n",
    "    \\eta_i = \\eta_0 \\cdot \\gamma^{\\left\\lfloor \\frac{i}{k} \\right\\rfloor}\n",
    "$$"
   ]
  },
  {
   "cell_type": "markdown",
   "id": "6871c8af-e0a1-4d4f-bb84-b9b8f7b522e3",
   "metadata": {},
   "source": [
    "and its python equivalent"
   ]
  },
  {
   "cell_type": "markdown",
   "id": "08891301-2620-4600-81f3-18ebb0e5184c",
   "metadata": {},
   "source": [
    "``` learning_rate = initial_learning_rate * decay_rate**(i // decay_step) ```"
   ]
  },
  {
   "cell_type": "markdown",
   "id": "0ec9483b-0a3c-4528-9583-94eb092ee672",
   "metadata": {},
   "source": [
    "*Note that that $ \\eta_i $ changes every $ kth $ epoch*"
   ]
  },
  {
   "cell_type": "markdown",
   "id": "e4a22e1e-ec6f-4623-9210-e3f640dc4103",
   "metadata": {},
   "source": [
    "#### Mini-Batch Gradient Descent"
   ]
  },
  {
   "cell_type": "markdown",
   "id": "d8ff03bd-0a96-4234-bc5f-234ebc5214a2",
   "metadata": {},
   "source": [
    "Following forward propagation and softmaxing, mini-batch gradient descent is implemented to help the neural network learn. Main componenets of this step are computing the cost-loss, back propagation, and updating hyperparameters while maintaining key features such as dropout and regularization."
   ]
  },
  {
   "cell_type": "markdown",
   "id": "04ffa1d5-9fdb-4657-9415-87ae778510c3",
   "metadata": {},
   "source": [
    "   __Cross-Entropy__"
   ]
  },
  {
   "cell_type": "markdown",
   "id": "ccdcc1b8-3f30-45fc-951c-f8525e7ab235",
   "metadata": {},
   "source": [
    "Cross-entropy is a loss function used to measure the performance of the model. With a regularization term, the loss function can generalize its learning capabilities better, as it penalizes larger weights and encourages smaller weights. This improves the models genralizability to identify numbers correctly outside the training data."
   ]
  },
  {
   "cell_type": "code",
   "execution_count": 123,
   "id": "7e4edfdf-8f6d-4927-9df9-130061090734",
   "metadata": {},
   "outputs": [],
   "source": [
    "def compute_cost(self, A2, Y, lambda_):\n",
    "        m = Y.shape[1]\n",
    "        cross_entropy_cost = -np.sum(Y * np.log(A2 + 1e-8)) / m  # Cross-entropy cost\n",
    "        L2_regularization_cost = (lambda_ / (2 * m)) * (np.sum(np.square(self.W1)) + np.sum(np.square(self.W2)))\n",
    "        cost = cross_entropy_cost + L2_regularization_cost\n",
    "        return cost"
   ]
  },
  {
   "cell_type": "markdown",
   "id": "02e457e1-caed-4576-9807-0b62df332990",
   "metadata": {},
   "source": [
    "Cross-Entropy is calculated by:"
   ]
  },
  {
   "cell_type": "markdown",
   "id": "9657ad09-cca9-418f-9ddb-3e9d1f820e89",
   "metadata": {},
   "source": [
    "$$ \n",
    "C = -\\frac{1}{m} \\sum_{i=1}^{m} \\sum_{j=1}^{c} Y_{j}^{(i)} \\log(A_{2,j}^{(i)} + \\epsilon) + \\frac{\\lambda}{2m} \\left( \\|w_1\\|^2 + \\|w_2\\|^2 \\right)\n",
    "$$\n"
   ]
  },
  {
   "cell_type": "markdown",
   "id": "29ba3366-a696-455a-8ff6-e1ca3148b06f",
   "metadata": {},
   "source": [
    " - $ m $ is the number of training examples\n",
    "- $ c $ is the number of classes (10 since there are 10 digits from 0-9)\n",
    "- $ Y_j^{(i)} $ is the true label for class j in the i-th example\n",
    "- $ A_{2,j}^{(i)} $ is the predicted probability for class j in the i-th example\n",
    "- $ \\epsilon $ is a small constant added to avoid producing a logarithm of zero\n",
    "- $ \\lambda $ is the regularization parameter\n",
    "- $ w_1 $ and $ w_2 $ are the norms of the weight vectors of the first and second layers"
   ]
  },
  {
   "cell_type": "markdown",
   "id": "6292d0a8-a8a1-459a-8dd0-3a99cba2f231",
   "metadata": {},
   "source": [
    "*Note that if the predicted probability is accurate, $ A_{2,j}^{(i)} $ is high and the loss is small. The converse is also true.*"
   ]
  },
  {
   "cell_type": "markdown",
   "id": "6b3a6622-ecab-4810-b249-de8088627a62",
   "metadata": {},
   "source": [
    "Consider $\n",
    "\\lim_{A_{2,j}^{(i)} \\to 1} -\\log(A_{2,j}^{(i)} + \\epsilon)\n",
    "$\n"
   ]
  },
  {
   "cell_type": "markdown",
   "id": "34da0482-25c2-4cb1-bb6b-190c3ec00377",
   "metadata": {},
   "source": [
    "> As $lim_{A_{2,j}^{(i)} \\to 1}$ the term $ \\log(A_{2,j}^{(i)} + \\epsilon) $ approaches $ log(1) = 0 $. Thus $ -\\log(A_{2,j}^{(i)} + \\epsilon) $ approaches 0 which means the loss is low -- indicating accurate predictions and effective learning. The converse is true as $lim_{A_{2,j}^{(i)} \\to 0}$$ -\\log(A_{2,j}^{(i)} + \\epsilon) $ becomes very negative because $ \\log(\\epsilon) $ is negative and $ \\log(A_{2,j}^{(i)}) $ diverges to $ -\\infty $. This in turn causes $-\\log(A_{2,j}^{(i)} + \\epsilon) $ to grow exponentially large, resulting in a very high cost."
   ]
  },
  {
   "cell_type": "markdown",
   "id": "f600ffc5-c516-4114-9a8c-919a5c0600c8",
   "metadata": {},
   "source": [
    "In a high cost result, the cross-entropy term dominates so the paramterized term reduces its contribution to the prediction. Therefore the model is encouraged to keep weights smaller."
   ]
  },
  {
   "cell_type": "code",
   "execution_count": 120,
   "id": "4c6debc0-cfee-447b-84f1-5f60501c536c",
   "metadata": {},
   "outputs": [
    {
     "data": {
      "image/png": "[encoded data removed]",
      "text/plain": [
       "<Figure size 1000x600 with 1 Axes>"
      ]
     },
     "metadata": {},
     "output_type": "display_data"
    }
   ],
   "source": [
    "import numpy as np\n",
    "import matplotlib.pyplot as plt\n",
    "\n",
    "# Parameters\n",
    "epsilon = 1e-8\n",
    "true_class_prob = 1  # For the true class\n",
    "\n",
    "#Range of predicted probabilities\n",
    "predicted_probs = np.linspace(0.01, 0.99, 100)  # Avoid 0 and 1 to prevent log(0)\n",
    "cross_entropy_losses = -np.log(predicted_probs + epsilon)\n",
    "\n",
    "# Plot\n",
    "plt.figure(figsize=(10, 6))\n",
    "plt.plot(predicted_probs, cross_entropy_losses, label='Cross-Entropy Loss')\n",
    "plt.xlabel('Predicted Probability for True Class')\n",
    "plt.ylabel('Cross-Entropy Loss')\n",
    "plt.title('Cross-Entropy Loss vs. Predicted Probability')\n",
    "plt.grid(True)\n",
    "plt.legend()\n",
    "plt.show()"
   ]
  },
  {
   "cell_type": "markdown",
   "id": "4f25383c-80c4-490f-ad87-dcd5ead8516f",
   "metadata": {},
   "source": [
    "__Figure 1__: the Relationship Between Predicted Probability and Cross-Entropy Loss Across a Deep Neural Network"
   ]
  },
  {
   "cell_type": "markdown",
   "id": "c989cfad-20f9-41ef-b65f-62a69f87148b",
   "metadata": {},
   "source": [
    "__Back Propagation__"
   ]
  },
  {
   "cell_type": "markdown",
   "id": "2796a926-e52e-4700-8eca-6b48479e882f",
   "metadata": {},
   "source": [
    "Back propagation's goal is to determine how the parameters must be adjusted to reduce the cost function and improve overall accuracy."
   ]
  },
  {
   "cell_type": "code",
   "execution_count": 122,
   "id": "b50a8a0f-5f71-43f6-a2b7-58ee0096d03d",
   "metadata": {},
   "outputs": [],
   "source": [
    "def back_propagation(self, X, Y, A2, keep_prob):\n",
    "        m = X.shape[1]\n",
    "        ## predicted output - true label\n",
    "        dZ2 = A2 - Y\n",
    "        dW2 = (1 / m) * np.dot(dZ2, self.A1.T)\n",
    "        db2 = (1 / m) * np.sum(dZ2, axis=1, keepdims=True)\n",
    "        dZ1 = np.dot(self.W2.T, dZ2) * (self.A1 > 0) \n",
    "\n",
    "        #droput to prevent overfitting\n",
    "        dZ1 *= self.dropout_mask1\n",
    "\n",
    "        dW1 = (1 / m) * np.dot(dZ1, X.T)\n",
    "        db1 = (1 / m) * np.sum(dZ1, axis=1, keepdims=True)\n",
    "        return dW1, db1, dW2, db2"
   ]
  },
  {
   "cell_type": "markdown",
   "id": "cedd9ec2-f0e7-4dd3-856a-0c29147aaeac",
   "metadata": {},
   "source": [
    "Every Epoch, partial derivatives of the weights and biases are taken to find the adjustments to take to minimize error. $ \\partial w_2 $ indicates the magnitude and direction in which the next layer should take to minimize error. $ \\partial b_2 $ indicates how to change the bias to minimize the cost function. Scaling by $ \\frac{1}{m} $ keeps the gradient calculations consistent across different mini-batch sizes. "
   ]
  },
  {
   "cell_type": "markdown",
   "id": "b81ee64c-12ae-45a8-9211-ac8ff5667ff5",
   "metadata": {},
   "source": [
    "Consider ```dZ1 = np.dot(self.W2.T, dZ2) * (self.A1 > 0) ``` which is equivalent to"
   ]
  },
  {
   "cell_type": "markdown",
   "id": "fcd99aa6-b47e-437f-8295-8be528a1b8f4",
   "metadata": {},
   "source": [
    "$ \\partial z_1 = \\frac{\\partial C}{\\partial z_1} = (\\frac{\\partial C}{\\partial z_2} \\cdot w_2^T) \\cdot f'(z_1)$"
   ]
  },
  {
   "cell_type": "markdown",
   "id": "85bb67de-e016-42b9-9634-4e3633a65594",
   "metadata": {},
   "source": [
    "> - The error $ \\frac{\\partial C}{\\partial z_2} $ from the second layer is propagated back to the first layer using $ w_2 $. This error is adjusted accoriding to the function in the first layer by multyplying with the derivative of the ReLU function ```self.A1 > 0 ```. This accounts for neuron sensitivity in relationship to changes in the input throughout the layers. The propagation helps the network learn and make better predictions."
   ]
  },
  {
   "cell_type": "markdown",
   "id": "0e0d0272-ece7-4265-84c4-68cc8412207a",
   "metadata": {},
   "source": [
    "By propagating the error back through the network and adjusting the weights accordingly, the network \"learns\" to make better predictions."
   ]
  },
  {
   "cell_type": "markdown",
   "id": "53e908c3-a192-461f-b912-c78855142559",
   "metadata": {},
   "source": [
    "![For a visual](../Downloads/gd.png)"
   ]
  },
  {
   "cell_type": "markdown",
   "id": "224c384b-ac85-4bef-ad90-6866d31cab63",
   "metadata": {},
   "source": [
    "__Figure 2__: A Neural Network Finding Its Minima Throughout Successive Epochs."
   ]
  },
  {
   "cell_type": "markdown",
   "id": "85355951-b241-498f-ae02-4665c4baef26",
   "metadata": {},
   "source": [
    "__Updating Weights and Biases__"
   ]
  },
  {
   "cell_type": "markdown",
   "id": "69aa0cb6-6514-4144-bd1c-c540aa08b7f3",
   "metadata": {},
   "source": [
    "Adjusting parameters in the opposite direction of the gradient of the loss function points in the direction of steepest decrease in the function's value. As a result this decreases the function optimally. The learning rate controls the size of steps to take to reach this minimum. Adjusting the weights and biases by the multiplication of these two variables leads to the convergence to the desired minimum."
   ]
  },
  {
   "cell_type": "markdown",
   "id": "7ee97345-1e71-47b0-9379-c86b0fe31c86",
   "metadata": {},
   "source": [
    "Weight and Biases are updated by:"
   ]
  },
  {
   "cell_type": "markdown",
   "id": "1b20cff3-0b62-4f94-b644-f2ca6aebe557",
   "metadata": {},
   "source": [
    "$$\n",
    "    w_1 \\leftarrow w_1 - \\eta (\\frac{\\partial C}{\\partial w_1})\n",
    "$$\n",
    "$$\n",
    "    b_1 \\leftarrow b_1 - \\eta(\\frac{\\partial C}{\\partial b_1})\n",
    "$$\n",
    "$$\n",
    "    w_2 \\leftarrow w_2 - \\eta(\\frac{\\partial C}{\\partial w_2})\n",
    "$$\n",
    "$$\n",
    "    b_2 \\leftarrow b_2 - \\eta(\\frac{\\partial C}{\\partial w_2})\n",
    "$$"
   ]
  },
  {
   "cell_type": "markdown",
   "id": "4e7996bb-e734-4086-803c-a1e221c16ad2",
   "metadata": {},
   "source": [
    "*Derivation with Taylor Expansion*"
   ]
  },
  {
   "cell_type": "markdown",
   "id": "d029553e-3033-45b8-a2b3-4b5e1ef59388",
   "metadata": {},
   "source": [
    "Consider the Taylor expansion of the cost function $ C(w_1) $ where $ C $ is to be minimized, $ w_1 $ is the weight of the first layer, and $ \\Delta w_1 $ is the change in $ w_1 $:"
   ]
  },
  {
   "cell_type": "markdown",
   "id": "dddb7ca4-5bba-400e-ac16-7e52492d3ed1",
   "metadata": {},
   "source": [
    "$$\n",
    "    f(x) = f(x_0) + \\frac{f'(x_0)}{1!}(x-x_0) + \\frac{f''(x_0)}{2!}(x-x_0)^2 \\dots\n",
    "$$\n",
    "$$\n",
    "    C(w_1 + \\Delta w_1) = C(w_1) + \\frac{\\partial C}{\\partial w_1}\\Delta w_1 + \\frac{1}{2!} \\frac{\\partial^2C}{\\partial w_1^2}(\\Delta w_1)^2 + \\dots\n",
    "$$\n"
   ]
  },
  {
   "cell_type": "markdown",
   "id": "45fdc52e-5129-43d4-bf1f-e6528947a705",
   "metadata": {},
   "source": [
    "Higher order terms minimally affect the result compared to the first-order term. This term can find the local approximation at a certain point, leading to the direction and magnitude of the step the gradient should take to minimize the cost function. Thus the approximation can be made: "
   ]
  },
  {
   "cell_type": "markdown",
   "id": "36c62ad5-8234-49f2-9cdb-3982143e0a0a",
   "metadata": {},
   "source": [
    "$$\n",
    "    C(w_1 + \\Delta w_1) \\approx C(w_1) + \\frac{\\partial C}{\\partial w_1}\\Delta w_1\n",
    "$$"
   ]
  },
  {
   "cell_type": "markdown",
   "id": "a4bd048b-181a-42cf-8a5e-df69f4932b4f",
   "metadata": {},
   "source": [
    "To minimize $ C $, a $ \\Delta w_1 $ should be chosen to reduce it. Thus the term $\\frac{\\partial C}{\\partial w_1}\\Delta w_1$ should be negative since the slope of a function can be interpreted from its first derivative. So the equality $ \\frac{\\partial C}{\\partial w_1} \\Delta w_1 < 0 $ must hold true. We know the learning rate $ \\eta $ can optimally navigate the local minima as well as efficiently speed up convergence. So the new $ \\Delta w_1 $ is:"
   ]
  },
  {
   "cell_type": "markdown",
   "id": "8c03dfa6-0ace-4146-8e63-a9d0e2ffe0bc",
   "metadata": {},
   "source": [
    "$$\n",
    "    \\Delta w_1 = -\\eta\\frac{\\partial C}{\\partial w_1}\n",
    "$$"
   ]
  },
  {
   "cell_type": "markdown",
   "id": "9dd21645-ae02-4ca9-a924-59da31a13123",
   "metadata": {},
   "source": [
    "Updating $ w_1 $:"
   ]
  },
  {
   "cell_type": "markdown",
   "id": "ff0f6ff3-5b1f-4593-be78-4bb1de9429f4",
   "metadata": {},
   "source": [
    "$$ \n",
    "    w_{1\\text{new}} = w_1 + \\Delta w_1\n",
    "$$"
   ]
  },
  {
   "cell_type": "markdown",
   "id": "2df154b2-a5c9-4b61-bd25-694bc143b4d3",
   "metadata": {},
   "source": [
    "Substitute $ \\Delta w_1 $"
   ]
  },
  {
   "cell_type": "markdown",
   "id": "d5a3401a-efa3-4165-ab2b-297d817b1661",
   "metadata": {},
   "source": [
    "$$\n",
    "    W_{1\\text{new}} = w_1 -\\eta\\frac{\\partial C}{\\partial w_1}\n",
    "$$"
   ]
  },
  {
   "cell_type": "markdown",
   "id": "181064df-e348-43a4-ad48-02f8d7f79b6b",
   "metadata": {},
   "source": [
    "Q.E.D."
   ]
  },
  {
   "cell_type": "markdown",
   "id": "6e0c5675-7e9c-48bf-bd49-5332a7a6c052",
   "metadata": {},
   "source": [
    "# 4. Evaluating the Model"
   ]
  },
  {
   "cell_type": "code",
   "execution_count": 128,
   "id": "515bbedb-2637-46d8-9806-55742f5cb477",
   "metadata": {},
   "outputs": [],
   "source": [
    "def evaluate(self, X, Y, keep_prob=1.0):\n",
    "        A2 = self.forward_propagation(X, keep_prob)\n",
    "        predictions = np.argmax(A2, axis=0)\n",
    "        labels = np.argmax(Y, axis=0)\n",
    "        accuracy = np.mean(predictions == labels)\n",
    "        return accuracy"
   ]
  },
  {
   "cell_type": "markdown",
   "id": "fced8c67-7e55-4e8f-902b-5aac5587757e",
   "metadata": {},
   "source": [
    "Every 10 epochs, the output of the network for a given input will be a vector of probabilities, where each element in the vector represents the probability that the input belongs to a particular class. It compares the predicted to the true label and returns the accuracy."
   ]
  },
  {
   "cell_type": "markdown",
   "id": "f56d9311-5199-4bc9-824a-4adbaca6690d",
   "metadata": {},
   "source": [
    "# 5. Training The Model"
   ]
  },
  {
   "cell_type": "markdown",
   "id": "bbfc48f1-a14c-4490-ac20-eebcfc5388a1",
   "metadata": {},
   "source": [
    "Training the model and visualizing its learning process."
   ]
  },
  {
   "cell_type": "code",
   "execution_count": 136,
   "id": "f46f2fb9-4383-48a5-ad4b-5085a104095c",
   "metadata": {},
   "outputs": [
    {
     "name": "stdout",
     "output_type": "stream",
     "text": [
      "Epoch 0 | Training Accuracy = 84.57141% | Test Accuracy = 85.39854%\n",
      "\n",
      "Epoch 10 | Training Accuracy = 93.25989% | Test Accuracy = 93.41934%\n",
      "\n",
      "Epoch 20 | Training Accuracy = 95.01325% | Test Accuracy = 94.69947%\n",
      "\n",
      "Epoch 30 | Training Accuracy = 95.78326% | Test Accuracy = 95.44954%\n",
      "\n",
      "Epoch 40 | Training Accuracy = 96.42494% | Test Accuracy = 95.90959%\n",
      "\n",
      "Epoch 50 | Training Accuracy = 96.83495% | Test Accuracy = 96.35964%\n",
      "\n",
      "Epoch 60 | Training Accuracy = 97.10162% | Test Accuracy = 96.41964%\n",
      "\n",
      "Epoch 70 | Training Accuracy = 97.30329% | Test Accuracy = 96.69967%\n",
      "\n",
      "Epoch 80 | Training Accuracy = 97.53496% | Test Accuracy = 96.84968%\n",
      "\n",
      "Epoch 90 | Training Accuracy = 97.74330% | Test Accuracy = 96.91969%\n",
      "\n",
      "Epoch 100 | Training Accuracy = 97.92830% | Test Accuracy = 97.21972%\n",
      "\n",
      "Epoch 110 | Training Accuracy = 98.05330% | Test Accuracy = 97.19972%\n",
      "\n",
      "Epoch 120 | Training Accuracy = 98.15330% | Test Accuracy = 97.09971%\n",
      "\n",
      "Epoch 130 | Training Accuracy = 98.23330% | Test Accuracy = 97.37974%\n",
      "\n",
      "Epoch 140 | Training Accuracy = 98.28497% | Test Accuracy = 97.16972%\n",
      "\n",
      "Epoch 150 | Training Accuracy = 98.35831% | Test Accuracy = 97.14971%\n",
      "\n",
      "Epoch 160 | Training Accuracy = 98.40664% | Test Accuracy = 97.20972%\n",
      "\n",
      "Epoch 170 | Training Accuracy = 98.47497% | Test Accuracy = 97.16972%\n",
      "\n",
      "Epoch 180 | Training Accuracy = 98.60664% | Test Accuracy = 97.30973%\n",
      "\n",
      "Epoch 190 | Training Accuracy = 98.56664% | Test Accuracy = 97.33973%\n",
      "\n",
      "Epoch 200 | Training Accuracy = 98.66164% | Test Accuracy = 97.37974%\n",
      "\n",
      "Epoch 210 | Training Accuracy = 98.72165% | Test Accuracy = 97.32973%\n",
      "\n",
      "Epoch 220 | Training Accuracy = 98.72998% | Test Accuracy = 97.44974%\n",
      "\n",
      "Epoch 230 | Training Accuracy = 98.77498% | Test Accuracy = 97.39974%\n",
      "\n",
      "Epoch 240 | Training Accuracy = 98.79498% | Test Accuracy = 97.28973%\n",
      "\n",
      "Epoch 250 | Training Accuracy = 98.88331% | Test Accuracy = 97.52975%\n",
      "\n",
      "Epoch 260 | Training Accuracy = 98.98332% | Test Accuracy = 97.33973%\n",
      "\n",
      "Epoch 270 | Training Accuracy = 98.90498% | Test Accuracy = 97.39974%\n",
      "\n",
      "Epoch 280 | Training Accuracy = 98.96332% | Test Accuracy = 97.32973%\n",
      "\n",
      "Epoch 290 | Training Accuracy = 99.01332% | Test Accuracy = 97.35974%\n",
      "\n"
     ]
    }
   ],
   "source": [
    "import numpy as np\n",
    "import pandas as pd\n",
    "import pickle\n",
    "import matplotlib.pyplot as plt\n",
    "\n",
    "def load_data(file_path):\n",
    "    data = pd.read_csv(file_path)\n",
    "    X = data.iloc[:, 1:].values  \n",
    "    Y = data.iloc[:, 0].values   \n",
    "    return X, Y\n",
    "\n",
    "def preprocess_data(X, Y):\n",
    "    # Normalize features\n",
    "    X = X / 255.0\n",
    "    # One-hot encode labels\n",
    "    Y_encoded = np.eye(np.max(Y) + 1)[Y]\n",
    "    \n",
    "    return X.T, Y_encoded.T\n",
    "\n",
    "class NeuralNetwork:\n",
    "    \n",
    "    def __init__(self, input_size, hidden_size, output_size):\n",
    "        # Use He initialization for weights\n",
    "        self.W1 = np.random.randn(hidden_size, input_size) * np.sqrt(2.0 / input_size)\n",
    "        self.b1 = np.zeros((hidden_size, 1))\n",
    "        self.W2 = np.random.randn(output_size, hidden_size) * np.sqrt(2.0 / hidden_size)\n",
    "        self.b2 = np.zeros((output_size, 1))\n",
    "    \n",
    "    def forward_propagation(self, X, keep_prob):\n",
    "        self.Z1 = np.dot(self.W1, X) + self.b1\n",
    "        self.A1 = np.maximum(0, self.Z1)\n",
    "\n",
    "        # Dropout for the hidden layer\n",
    "        self.dropout_mask1 = (np.random.rand(*self.A1.shape) < keep_prob) / keep_prob\n",
    "        self.A1 *= self.dropout_mask1\n",
    "\n",
    "        self.Z2 = np.dot(self.W2, self.A1) + self.b2\n",
    "        self.A2 = self.softmax(self.Z2)\n",
    "        return self.A2\n",
    "    \n",
    "    def softmax(self, Z):\n",
    "        exp_Z = np.exp(Z - np.max(Z, axis=0, keepdims=True))\n",
    "        return exp_Z / np.sum(exp_Z, axis=0, keepdims=True)\n",
    "    \n",
    "    def train(self, X_train, Y_train, X_test, Y_test, iterations, initial_learning_rate, batch_size, lambda_, keep_prob, decay_rate=0.96, decay_step=100):\n",
    "        m_train = X_train.shape[1]\n",
    "        m_test = X_test.shape[1]\n",
    "        train_costs = []\n",
    "        test_costs = []\n",
    "        train_accuracies = []\n",
    "        test_accuracies = []\n",
    "        learning_rates = []\n",
    "\n",
    "        learning_rate = initial_learning_rate\n",
    "\n",
    "        for i in range(iterations):\n",
    "            # Update learning rate using exponential decay\n",
    "            learning_rate = initial_learning_rate * decay_rate**(i // decay_step)\n",
    "            learning_rates.append(learning_rate)\n",
    "\n",
    "            permutation = np.random.permutation(m_train)\n",
    "            X_shuffled = X_train[:, permutation]\n",
    "            Y_shuffled = Y_train[:, permutation]\n",
    "\n",
    "            epoch_cost = 0\n",
    "\n",
    "            for j in range(0, m_train, batch_size):\n",
    "                X_batch = X_shuffled[:, j:j+batch_size]\n",
    "                Y_batch = Y_shuffled[:, j:j+batch_size]\n",
    "\n",
    "                A2 = self.forward_propagation(X_batch, keep_prob)\n",
    "                cost = self.compute_cost(A2, Y_batch, lambda_)\n",
    "                dW1, db1, dW2, db2 = self.back_propagation(X_batch, Y_batch, A2, keep_prob)\n",
    "                self.W1 -= learning_rate * dW1\n",
    "                self.b1 -= learning_rate * db1\n",
    "                self.W2 -= learning_rate * dW2\n",
    "                self.b2 -= learning_rate * db2\n",
    "\n",
    "                epoch_cost += cost * X_batch.shape[1]\n",
    "\n",
    "            epoch_cost /= m_train\n",
    "            train_costs.append(epoch_cost)\n",
    "\n",
    "            # Compute test cost\n",
    "            A2_test = self.forward_propagation(X_test, keep_prob)\n",
    "            test_cost = self.compute_cost(A2_test, Y_test, lambda_)\n",
    "            test_costs.append(test_cost)\n",
    "\n",
    "            if i % 10 == 0:\n",
    "                train_accuracy = self.evaluate(X_train, Y_train, keep_prob)\n",
    "                test_accuracy = self.evaluate(X_test, Y_test, keep_prob)\n",
    "                train_accuracies.append(train_accuracy * 100)\n",
    "                test_accuracies.append(test_accuracy * 100)\n",
    "\n",
    "                print(f\"Epoch {i} | Training Accuracy = {train_accuracy * 100:.5f}% | Test Accuracy = {test_accuracy * 100:.5f}%\\n\")\n",
    "\n",
    "        return train_costs, test_costs, train_accuracies, test_accuracies, learning_rates\n",
    "\n",
    "\n",
    "\n",
    "    def compute_cost(self, A2, Y, lambda_):\n",
    "        m = Y.shape[1]\n",
    "        cross_entropy_cost = -np.sum(Y * np.log(A2 + 1e-8)) / m\n",
    "        L2_regularization_cost = (lambda_ / (2 * m)) * (np.sum(np.square(self.W1)) + np.sum(np.square(self.W2)))\n",
    "        cost = cross_entropy_cost + L2_regularization_cost\n",
    "        return cost\n",
    "    \n",
    "    def back_propagation(self, X, Y, A2, keep_prob):\n",
    "        m = X.shape[1]\n",
    "        dZ2 = A2 - Y\n",
    "        dW2 = (1 / m) * np.dot(dZ2, self.A1.T)\n",
    "        db2 = (1 / m) * np.sum(dZ2, axis=1, keepdims=True)\n",
    "        dZ1 = np.dot(self.W2.T, dZ2) * (self.A1 > 0)\n",
    "\n",
    "        dZ1 *= self.dropout_mask1\n",
    "\n",
    "        dW1 = (1 / m) * np.dot(dZ1, X.T)\n",
    "        db1 = (1 / m) * np.sum(dZ1, axis=1, keepdims=True)\n",
    "        return dW1, db1, dW2, db2\n",
    "\n",
    "    def evaluate(self, X, Y, keep_prob=1.0):\n",
    "        A2 = self.forward_propagation(X, keep_prob)\n",
    "        predictions = np.argmax(A2, axis=0)\n",
    "        labels = np.argmax(Y, axis=0)\n",
    "        accuracy = np.mean(predictions == labels)\n",
    "        return accuracy\n",
    "\n",
    "# Step 4: Save and Load Model\n",
    "def save_model(model, filename):\n",
    "    with open(filename, 'wb') as f:\n",
    "        pickle.dump(model, f)\n",
    "\n",
    "def load_model(filename):\n",
    "    with open(filename, 'rb') as f:\n",
    "        return pickle.load(f)\n",
    "\n",
    "\n",
    "#Load and preprocess the data, adjust accoridngly to dataset\n",
    "X_train, Y_train = preprocess_data(*load_data('mnist_train.csv'))\n",
    "X_test, Y_test = preprocess_data(*load_data('mnist_test.csv'))\n",
    "\n",
    "#Parameters\n",
    "input_size = X_train.shape[0]\n",
    "hidden_size = 128\n",
    "output_size = 10\n",
    "iterations = 300\n",
    "initial_learning_rate = 0.01\n",
    "batch_size = 64  \n",
    "\n",
    "lambda_ = 0.01\n",
    "#keep 80% of data\n",
    "keep_prob = 0.8 \n",
    "\n",
    "model = NeuralNetwork(input_size, hidden_size, output_size)\n",
    "train_costs, test_costs, train_accuracies, test_accuracies, learning_rates = model.train(\n",
    "    X_train, Y_train, X_test, Y_test, iterations, initial_learning_rate, batch_size, lambda_, keep_prob)\n",
    "\n",
    "#Save the model\n",
    "save_model(model, 'neural_network_model.pkl')"
   ]
  },
  {
   "cell_type": "markdown",
   "id": "fb48680c-f051-4555-a224-4e8d7c449c9f",
   "metadata": {},
   "source": [
    "#### Notice the similarity between training and test data, concluding adequate generalization to new and unseen data."
   ]
  },
  {
   "cell_type": "code",
   "execution_count": 137,
   "id": "88a2674f-f315-4c51-a25c-956acf631202",
   "metadata": {},
   "outputs": [
    {
     "data": {
      "image/png": "[encoded data removed]",
      "text/plain": [
       "<Figure size 1200x600 with 1 Axes>"
      ]
     },
     "metadata": {},
     "output_type": "display_data"
    }
   ],
   "source": [
    "plt.figure(figsize=(12, 6))\n",
    "plt.subplot(1, 2, 1)\n",
    "plt.plot(range(0, len(train_accuracies) * 10, 10), train_accuracies, label='Training Accuracy', color='blue', marker = \"o\")\n",
    "plt.plot(range(0, len(test_accuracies) * 10, 10), test_accuracies, label='Test Accuracy', color='red', marker = \"o\")\n",
    "plt.xlabel('Epochs')\n",
    "plt.ylabel('Accuracy (%)')\n",
    "plt.title('Training Accuracy vs. Test Accuracy')\n",
    "plt.legend()\n",
    "plt.tight_layout()\n",
    "plt.grid(True)\n",
    "plt.show()"
   ]
  },
  {
   "cell_type": "code",
   "execution_count": 140,
   "id": "980a6c55-c6dd-4d62-ad9d-c78a01e9edae",
   "metadata": {},
   "outputs": [
    {
     "data": {
      "image/png": "[encoded data removed]",
      "text/plain": [
       "<Figure size 1200x600 with 1 Axes>"
      ]
     },
     "metadata": {},
     "output_type": "display_data"
    }
   ],
   "source": [
    "plt.figure(figsize=(12, 6))\n",
    "plt.subplot(1, 2, 2)\n",
    "plt.plot(range(0, len(train_costs)*10, 10), train_costs, label='Training Cost', color='blue')\n",
    "plt.plot(range(0, len(test_costs)*10, 10), test_costs, label='Test Cost', color='red')\n",
    "plt.xlabel('Epochs')\n",
    "plt.ylabel('Cost')\n",
    "plt.title('Training Cost vs. Test Cost')\n",
    "plt.legend()\n",
    "plt.tight_layout()\n",
    "plt.grid(True)\n",
    "plt.show()"
   ]
  },
  {
   "cell_type": "code",
   "execution_count": 139,
   "id": "0d073b20-1b89-4cbc-a1f0-d396101fc0c7",
   "metadata": {},
   "outputs": [
    {
     "data": {
      "image/png": "[encoded data removed]",
      "text/plain": [
       "<Figure size 600x600 with 1 Axes>"
      ]
     },
     "metadata": {},
     "output_type": "display_data"
    }
   ],
   "source": [
    "plt.figure(figsize=(12, 6))\n",
    "plt.subplot(1, 2, 2)\n",
    "plt.plot(range(0, len(train_costs)*10, 10), train_costs, label='Training Cost', color='blue')\n",
    "plt.plot(range(0, len(test_costs)*10, 10), test_costs, label='Test Cost', color='red')\n",
    "plt.xlabel('Epochs')\n",
    "plt.ylabel('Cost')\n",
    "plt.title('Training Cost vs. Test Cost')\n",
    "plt.legend()\n",
    "plt.tight_layout()\n",
    "plt.grid(True)\n",
    "plt.show()"
   ]
  }
 ],
 "metadata": {
  "kernelspec": {
   "display_name": "Python (myenv)",
   "language": "python",
   "name": "myenv"
  },
  "language_info": {
   "codemirror_mode": {
    "name": "ipython",
    "version": 3
   },
   "file_extension": ".py",
   "mimetype": "text/x-python",
   "name": "python",
   "nbconvert_exporter": "python",
   "pygments_lexer": "ipython3",
   "version": "3.12.4"
  }
 },
 "nbformat": 4,
 "nbformat_minor": 5
}
